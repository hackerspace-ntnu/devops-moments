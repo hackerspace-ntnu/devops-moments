{
 "cells": [
  {
   "cell_type": "markdown",
   "id": "4f7b3faa",
   "metadata": {},
   "source": [
    "# Bernstein-Vazirani Algorithm\n",
    "\n",
    "With a given number, the algorithm creates a quantum circuit and places not gates with respect to the position of the each 1 in the number. 1 and 0 in this case represents a bit or, more preciscly, a quibit. Using a simulator we get perfect results from an isolated environment and we get that all 100,000 times the circuit ran, it returned our number. Using IBMs quantum computer, which is in an open environment, we get all kinds of numbers. Note that our number was the one that we got as the result most frequently.\n",
    "\n",
    "This algorithm is in DevOps-moments because to us ordinary coders the algorithm looks extremely dumb by literally only spitting out the number it was given. And for IBM's own computers it even failed many many times. "
   ]
  },
  {
   "cell_type": "code",
   "execution_count": 2,
   "id": "a2cd03ba",
   "metadata": {},
   "outputs": [],
   "source": [
    "from qiskit import *\n",
    "from qiskit.tools.visualization import plot_histogram"
   ]
  },
  {
   "cell_type": "code",
   "execution_count": 3,
   "id": "27fcb7a1",
   "metadata": {},
   "outputs": [],
   "source": [
    "secretnumber = \"1011\""
   ]
  },
  {
   "cell_type": "code",
   "execution_count": 4,
   "id": "970574ae",
   "metadata": {},
   "outputs": [
    {
     "data": {
      "text/plain": [
       "<qiskit.circuit.instructionset.InstructionSet at 0x1fcc067d040>"
      ]
     },
     "execution_count": 4,
     "metadata": {},
     "output_type": "execute_result"
    }
   ],
   "source": [
    "circuit = QuantumCircuit(len(secretnumber)+1,len(secretnumber))\n",
    "\n",
    "circuit.h(range(len(secretnumber)))\n",
    "circuit.x(len(secretnumber))\n",
    "circuit.h(len(secretnumber))\n",
    "circuit.barrier()\n",
    "\n",
    "for count, value in enumerate(reversed(secretnumber)):\n",
    "    if value == '1':\n",
    "        circuit.cx(count,len(secretnumber))\n",
    "\n",
    "circuit.barrier()\n",
    "circuit.h(range(len(secretnumber)))\n",
    "circuit.barrier()\n",
    "\n",
    "circuit.measure(range(len(secretnumber)),range(len(secretnumber)))"
   ]
  },
  {
   "cell_type": "code",
   "execution_count": 5,
   "id": "00f53e64",
   "metadata": {},
   "outputs": [
    {
     "data": {
      "text/html": [
       "<pre style=\"word-wrap: normal;white-space: pre;background: #fff0;line-height: 1.1;font-family: &quot;Courier New&quot;,Courier,monospace\">     ┌───┐      ░                 ░ ┌───┐ ░ ┌─┐         \n",
       "q_0: ┤ H ├──────░───■─────────────░─┤ H ├─░─┤M├─────────\n",
       "     ├───┤      ░   │             ░ ├───┤ ░ └╥┘┌─┐      \n",
       "q_1: ┤ H ├──────░───┼────■────────░─┤ H ├─░──╫─┤M├──────\n",
       "     ├───┤      ░   │    │        ░ ├───┤ ░  ║ └╥┘┌─┐   \n",
       "q_2: ┤ H ├──────░───┼────┼────────░─┤ H ├─░──╫──╫─┤M├───\n",
       "     ├───┤      ░   │    │        ░ ├───┤ ░  ║  ║ └╥┘┌─┐\n",
       "q_3: ┤ H ├──────░───┼────┼────■───░─┤ H ├─░──╫──╫──╫─┤M├\n",
       "     ├───┤┌───┐ ░ ┌─┴─┐┌─┴─┐┌─┴─┐ ░ └───┘ ░  ║  ║  ║ └╥┘\n",
       "q_4: ┤ X ├┤ H ├─░─┤ X ├┤ X ├┤ X ├─░───────░──╫──╫──╫──╫─\n",
       "     └───┘└───┘ ░ └───┘└───┘└───┘ ░       ░  ║  ║  ║  ║ \n",
       "c: 4/════════════════════════════════════════╩══╩══╩══╩═\n",
       "                                             0  1  2  3 </pre>"
      ],
      "text/plain": [
       "     ┌───┐      ░                 ░ ┌───┐ ░ ┌─┐         \n",
       "q_0: ┤ H ├──────░───■─────────────░─┤ H ├─░─┤M├─────────\n",
       "     ├───┤      ░   │             ░ ├───┤ ░ └╥┘┌─┐      \n",
       "q_1: ┤ H ├──────░───┼────■────────░─┤ H ├─░──╫─┤M├──────\n",
       "     ├───┤      ░   │    │        ░ ├───┤ ░  ║ └╥┘┌─┐   \n",
       "q_2: ┤ H ├──────░───┼────┼────────░─┤ H ├─░──╫──╫─┤M├───\n",
       "     ├───┤      ░   │    │        ░ ├───┤ ░  ║  ║ └╥┘┌─┐\n",
       "q_3: ┤ H ├──────░───┼────┼────■───░─┤ H ├─░──╫──╫──╫─┤M├\n",
       "     ├───┤┌───┐ ░ ┌─┴─┐┌─┴─┐┌─┴─┐ ░ └───┘ ░  ║  ║  ║ └╥┘\n",
       "q_4: ┤ X ├┤ H ├─░─┤ X ├┤ X ├┤ X ├─░───────░──╫──╫──╫──╫─\n",
       "     └───┘└───┘ ░ └───┘└───┘└───┘ ░       ░  ║  ║  ║  ║ \n",
       "c: 4/════════════════════════════════════════╩══╩══╩══╩═\n",
       "                                             0  1  2  3 "
      ]
     },
     "execution_count": 5,
     "metadata": {},
     "output_type": "execute_result"
    }
   ],
   "source": [
    "circuit.draw()"
   ]
  },
  {
   "cell_type": "code",
   "execution_count": 6,
   "id": "23186f1b",
   "metadata": {
    "scrolled": true
   },
   "outputs": [],
   "source": [
    "simulator = Aer.get_backend('qasm_simulator')\n",
    "result = execute(circuit, backend = simulator,shots=100000).result()\n",
    "counts = result.get_counts()"
   ]
  },
  {
   "cell_type": "code",
   "execution_count": 7,
   "id": "6fd6646c",
   "metadata": {},
   "outputs": [
    {
     "data": {
      "image/png": "[encoded data removed]",
      "text/plain": [
       "<Figure size 504x360 with 1 Axes>"
      ]
     },
     "execution_count": 7,
     "metadata": {},
     "output_type": "execute_result"
    }
   ],
   "source": [
    "plot_histogram(counts)"
   ]
  },
  {
   "cell_type": "code",
   "execution_count": 8,
   "id": "bc8a4158",
   "metadata": {},
   "outputs": [
    {
     "data": {
      "text/plain": [
       "<AccountProvider for IBMQ(hub='ibm-q', group='open', project='main')>"
      ]
     },
     "execution_count": 8,
     "metadata": {},
     "output_type": "execute_result"
    }
   ],
   "source": [
    "from qiskit import IBMQ\n",
    "# You have to make your own account and save you IBM account with IBMQ.save_account(\"<TOKEN>\") on your own computer\n",
    "IBMQ.load_account()"
   ]
  },
  {
   "cell_type": "code",
   "execution_count": 9,
   "id": "ef01feaf",
   "metadata": {},
   "outputs": [],
   "source": [
    "from qiskit.tools.monitor import job_monitor\n",
    "from qiskit.tools.visualization import plot_histogram"
   ]
  },
  {
   "cell_type": "code",
   "execution_count": 10,
   "id": "3bc80f00",
   "metadata": {},
   "outputs": [],
   "source": [
    "provider = IBMQ.get_provider(\"ibm-q\")\n",
    "backend = provider.get_backend(\"ibmq_santiago\")"
   ]
  },
  {
   "cell_type": "code",
   "execution_count": 11,
   "id": "1f392d0d",
   "metadata": {},
   "outputs": [
    {
     "name": "stdout",
     "output_type": "stream",
     "text": [
      "Job Status: job has successfully run\n"
     ]
    }
   ],
   "source": [
    "job = execute(circuit, backend=backend,shots=1000)\n",
    "job_monitor(job)"
   ]
  },
  {
   "cell_type": "code",
   "execution_count": 12,
   "id": "8e105cb3",
   "metadata": {},
   "outputs": [
    {
     "data": {
      "image/png": "[encoded data removed]",
      "text/plain": [
       "<Figure size 504x360 with 1 Axes>"
      ]
     },
     "execution_count": 12,
     "metadata": {},
     "output_type": "execute_result"
    }
   ],
   "source": [
    "result = job.result()\n",
    "counts = result.get_counts(circuit)\n",
    "\n",
    "plot_histogram([counts])"
   ]
  },
  {
   "cell_type": "code",
   "execution_count": null,
   "id": "f5d9cece",
   "metadata": {},
   "outputs": [],
   "source": []
  }
 ],
 "metadata": {
  "kernelspec": {
   "display_name": "Python 3 (ipykernel)",
   "language": "python",
   "name": "python3"
  },
  "language_info": {
   "codemirror_mode": {
    "name": "ipython",
    "version": 3
   },
   "file_extension": ".py",
   "mimetype": "text/x-python",
   "name": "python",
   "nbconvert_exporter": "python",
   "pygments_lexer": "ipython3",
   "version": "3.9.7"
  }
 },
 "nbformat": 4,
 "nbformat_minor": 5
}
